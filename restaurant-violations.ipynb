{
 "cells": [
  {
   "cell_type": "code",
   "execution_count": 1,
   "metadata": {},
   "outputs": [],
   "source": [
    "import datetime\n",
    "import numpy as np\n",
    "import pandas as pd\n",
    "import matplotlib.pyplot as plt"
   ]
  },
  {
   "cell_type": "code",
   "execution_count": 2,
   "metadata": {},
   "outputs": [],
   "source": [
    "url = \"https://data.cityofnewyork.us/api/views/43nn-pn8j/rows.csv?accessType=DOWNLOAD\"\n",
    "df = pd.read_csv(url)"
   ]
  },
  {
   "cell_type": "code",
   "execution_count": 3,
   "metadata": {},
   "outputs": [
    {
     "data": {
      "text/plain": [
       "(397660, 26)"
      ]
     },
     "execution_count": 3,
     "metadata": {},
     "output_type": "execute_result"
    }
   ],
   "source": [
    "df.shape"
   ]
  },
  {
   "cell_type": "code",
   "execution_count": 15,
   "metadata": {},
   "outputs": [],
   "source": [
    "name = \"Udon West\".strip().upper()\n",
    "boro = \"Manhattan\".strip().title()\n",
    "street = \"\".strip().upper()\n",
    "zipcode = \"\".strip()"
   ]
  },
  {
   "cell_type": "code",
   "execution_count": 16,
   "metadata": {},
   "outputs": [],
   "source": [
    "name = name if name else None\n",
    "boro = boro if boro else None\n",
    "zipcode = zipcode if zipcode else None"
   ]
  },
  {
   "cell_type": "code",
   "execution_count": 17,
   "metadata": {},
   "outputs": [],
   "source": [
    "if boro and boro not in ['Manhattan', 'Queens', 'Brooklyn', 'Staten Island', 'Bronx']:\n",
    "    raise ValueError(f\"Unknown borough {boro}\")\n",
    "\n",
    "if zipcode and zipcode not in [int(z) for z in df.ZIPCODE.unique() if np.isfinite(z)]:\n",
    "    raise ValueError(f\"Unknown ZIP code {zipcode}\")"
   ]
  },
  {
   "cell_type": "code",
   "execution_count": 18,
   "metadata": {},
   "outputs": [],
   "source": [
    "query_strs = \" & \".join([\n",
    "    f\"{column_name} == '{field}'\" for column_name, field in [(\"DBA\", name), (\"BORO\", boro), (\"STREET\", street)] if field\n",
    "])\n",
    "\n",
    "query_nums = \" & \".join([\n",
    "    f\"{column_name} == '{field}'\" for column_name, field in [(\"ZIPCODE\", zipcode)] if field\n",
    "])\n",
    "\n",
    "query = \" & \".join([q for q in [query_strs, query_nums] if q])"
   ]
  },
  {
   "cell_type": "code",
   "execution_count": 99,
   "metadata": {},
   "outputs": [],
   "source": [
    "def sanitize(s, pad=None):\n",
    "    if not isinstance(s, str):\n",
    "        s = str(s)\n",
    "\n",
    "    return \" \".join(s.title().split())"
   ]
  },
  {
   "cell_type": "code",
   "execution_count": 20,
   "metadata": {
    "scrolled": false
   },
   "outputs": [],
   "source": [
    "filtered = df.query(query)\n",
    "num_results = filtered[\"CAMIS\"].nunique()"
   ]
  },
  {
   "cell_type": "code",
   "execution_count": 100,
   "metadata": {},
   "outputs": [
    {
     "name": "stdout",
     "output_type": "stream",
     "text": [
      "*Udon West:* Japanese, 150 East 46 Street, Manhattan\n",
      "*Udon West:* Japanese, 11 St Marks Place, Manhattan\n"
     ]
    }
   ],
   "source": [
    "choices = filtered[[\"CAMIS\", \"DBA\", \"BUILDING\", \"STREET\", \"BORO\", \"CUISINE DESCRIPTION\"]].drop_duplicates()\n",
    "lengths = choices.applymap(lambda s: len(sanitize(s))).max()\n",
    "\n",
    "for _, row in choices.iterrows():\n",
    "    print(\n",
    "        f\"*{sanitize(row['DBA'])}:* \"\n",
    "        f\"{sanitize(row['CUISINE DESCRIPTION'])}, \"\n",
    "        f\"{sanitize(row['BUILDING'])} \"\n",
    "        f\"{sanitize(row['STREET'])}, \"\n",
    "        f\"{sanitize(row['BORO'])}\"\n",
    "    )"
   ]
  },
  {
   "cell_type": "code",
   "execution_count": null,
   "metadata": {},
   "outputs": [],
   "source": []
  },
  {
   "cell_type": "code",
   "execution_count": null,
   "metadata": {},
   "outputs": [],
   "source": []
  },
  {
   "cell_type": "code",
   "execution_count": 107,
   "metadata": {},
   "outputs": [],
   "source": [
    "filtered = filtered[filtered.CAMIS == 41380163]"
   ]
  },
  {
   "cell_type": "code",
   "execution_count": 109,
   "metadata": {},
   "outputs": [
    {
     "data": {
      "text/plain": [
       "Index(['CAMIS', 'DBA', 'BORO', 'BUILDING', 'STREET', 'ZIPCODE', 'PHONE',\n",
       "       'CUISINE DESCRIPTION', 'INSPECTION DATE', 'ACTION', 'VIOLATION CODE',\n",
       "       'VIOLATION DESCRIPTION', 'CRITICAL FLAG', 'SCORE', 'GRADE',\n",
       "       'GRADE DATE', 'RECORD DATE', 'INSPECTION TYPE', 'Latitude', 'Longitude',\n",
       "       'Community Board', 'Council District', 'Census Tract', 'BIN', 'BBL',\n",
       "       'NTA'],\n",
       "      dtype='object')"
      ]
     },
     "execution_count": 109,
     "metadata": {},
     "output_type": "execute_result"
    }
   ],
   "source": [
    "filtered.columns"
   ]
  },
  {
   "cell_type": "code",
   "execution_count": null,
   "metadata": {},
   "outputs": [],
   "source": []
  },
  {
   "cell_type": "code",
   "execution_count": 203,
   "metadata": {},
   "outputs": [],
   "source": [
    "violations = filtered[\n",
    "    [\"INSPECTION DATE\", \"ACTION\", \"VIOLATION CODE\", \"VIOLATION DESCRIPTION\", 'CRITICAL FLAG', 'GRADE', 'GRADE DATE']\n",
    "]\n",
    "violations.loc[:, \"INSPECTION DATE\"] = pd.to_datetime(violations.loc[:, \"INSPECTION DATE\"])\n",
    "violations = violations.sort_values(\"INSPECTION DATE\", ascending=False)"
   ]
  },
  {
   "cell_type": "code",
   "execution_count": 218,
   "metadata": {},
   "outputs": [],
   "source": [
    "def interpret_action(s):\n",
    "    if \"establishment closed\" in s.lower():\n",
    "        return \"we were closed\"\n",
    "    elif \"establishment re-opened\" in s.lower():\n",
    "        return \"we were allowed to re-open\"\n",
    "    elif \"establishment re-closed\" in s.lower():\n",
    "        return \"we were re-closed\"\n",
    "    elif \"violations were cited\" in s.lower():\n",
    "        return \"we were cited for the following violation(s):\"\n",
    "    elif \"no violations\" in s.lower():\n",
    "        return \"no violations were found.\"\n",
    "    else:\n",
    "        return \"no violations were found.\""
   ]
  },
  {
   "cell_type": "code",
   "execution_count": 219,
   "metadata": {},
   "outputs": [],
   "source": [
    "def truncate_violation_description(s):\n",
    "    return s.split(\".\")[0] + \".\""
   ]
  },
  {
   "cell_type": "code",
   "execution_count": 261,
   "metadata": {},
   "outputs": [
    {
     "data": {
      "text/plain": [
       "<list_reverseiterator at 0x7fe9cbbf30d0>"
      ]
     },
     "execution_count": 261,
     "metadata": {},
     "output_type": "execute_result"
    }
   ],
   "source": []
  },
  {
   "cell_type": "code",
   "execution_count": 269,
   "metadata": {},
   "outputs": [
    {
     "data": {
      "text/html": [
       "<div>\n",
       "<style scoped>\n",
       "    .dataframe tbody tr th:only-of-type {\n",
       "        vertical-align: middle;\n",
       "    }\n",
       "\n",
       "    .dataframe tbody tr th {\n",
       "        vertical-align: top;\n",
       "    }\n",
       "\n",
       "    .dataframe thead th {\n",
       "        text-align: right;\n",
       "    }\n",
       "</style>\n",
       "<table border=\"1\" class=\"dataframe\">\n",
       "  <thead>\n",
       "    <tr style=\"text-align: right;\">\n",
       "      <th></th>\n",
       "      <th>VIOLATION DESCRIPTION</th>\n",
       "      <th>CRITICAL FLAG</th>\n",
       "    </tr>\n",
       "  </thead>\n",
       "  <tbody>\n",
       "    <tr>\n",
       "      <th>250681</th>\n",
       "      <td>Filth flies or food/refuse/sewage-associated (...</td>\n",
       "      <td>Y</td>\n",
       "    </tr>\n",
       "    <tr>\n",
       "      <th>316194</th>\n",
       "      <td>Facility not vermin proof. Harborage or condit...</td>\n",
       "      <td>N</td>\n",
       "    </tr>\n",
       "  </tbody>\n",
       "</table>\n",
       "</div>"
      ],
      "text/plain": [
       "                                    VIOLATION DESCRIPTION CRITICAL FLAG\n",
       "250681  Filth flies or food/refuse/sewage-associated (...             Y\n",
       "316194  Facility not vermin proof. Harborage or condit...             N"
      ]
     },
     "execution_count": 269,
     "metadata": {},
     "output_type": "execute_result"
    }
   ],
   "source": [
    "violations.loc[v, [\"VIOLATION DESCRIPTION\", \"CRITICAL FLAG\"]]"
   ]
  },
  {
   "cell_type": "code",
   "execution_count": 272,
   "metadata": {},
   "outputs": [
    {
     "name": "stdout",
     "output_type": "stream",
     "text": [
      "On 2019-06-17, we were cited for the following violation(s):\n",
      "  - Non-food contact surface improperly constructed.\n",
      "  - *Cold food item held above 41º F (smoked fish and reduced oxygen packaged foods above 38 ºF) except during necessary preparation.*\n",
      "On 2018-10-01, we were cited for the following violation(s):\n",
      "  - Facility not vermin proof.\n",
      "  - Plumbing not properly installed or maintained; anti-siphonage or backflow prevention device not provided where required; equipment or floor not properly drained; sewage disposal system in disrepair or not functioning properly.\n",
      "  - *Filth flies or food/refuse/sewage-associated (FRSA) flies present in facility’s food and/or non-food areas.*\n",
      "On 2018-09-17, we were cited for the following violation(s):\n",
      "  - Facility not vermin proof.\n",
      "  - *Live roaches present in facility's food and/or non-food areas.*\n",
      "  - Plumbing not properly installed or maintained; anti-siphonage or backflow prevention device not provided where required; equipment or floor not properly drained; sewage disposal system in disrepair or not functioning properly.\n",
      "  - Non-food contact surface improperly constructed.\n",
      "On 2018-02-13, we were cited for the following violation(s):\n",
      "  - Facility not vermin proof.\n",
      "  - *Filth flies or food/refuse/sewage-associated (FRSA) flies present in facility’s food and/or non-food areas.*\n",
      "On 2018-01-10, we were cited for the following violation(s):\n",
      "  - Non-food contact surface improperly constructed.\n",
      "  - *Food not protected from potential source of contamination during storage, preparation, transportation, display or service.*\n",
      "On 2016-10-06, we were cited for the following violation(s):\n",
      "  - *Filth flies or food/refuse/sewage-associated (FRSA) flies present in facility’s food and/or non-food areas.*\n",
      "  - Facility not vermin proof.\n"
     ]
    }
   ],
   "source": [
    "for _, v in sorted(violations.groupby([\"INSPECTION DATE\", \"ACTION\"]).groups.items(), reverse=True):\n",
    "    row = violations.loc[v].iloc[0]  # Just get one row\n",
    "    print(\n",
    "        f\"On {row['INSPECTION DATE'].strftime('%Y-%m-%d')}, \"\n",
    "        f\"{interpret_action(row['ACTION'])}\"\n",
    "    )\n",
    "    \n",
    "    for i, (description, critical) in violations.loc[v, [\"VIOLATION DESCRIPTION\", \"CRITICAL FLAG\"]].iterrows():\n",
    "        if critical == \"Y\":\n",
    "            print(f\"  - *{truncate_violation_description(description)}*\")            \n",
    "        else:\n",
    "            print(f\"  - {truncate_violation_description(description)}\")"
   ]
  },
  {
   "cell_type": "code",
   "execution_count": 220,
   "metadata": {},
   "outputs": [
    {
     "name": "stdout",
     "output_type": "stream",
     "text": [
      "On 2019-06-17, we were cited for the following violation(s):\n",
      "\tNon-food contact surface improperly constructed.\n",
      "On 2019-06-17, we were cited for the following violation(s):\n",
      "\tCold food item held above 41º F (smoked fish and reduced oxygen packaged foods above 38 ºF) except during necessary preparation.\n",
      "On 2018-10-01, we were cited for the following violation(s):\n",
      "\tFacility not vermin proof.\n",
      "On 2018-10-01, we were cited for the following violation(s):\n",
      "\tPlumbing not properly installed or maintained; anti-siphonage or backflow prevention device not provided where required; equipment or floor not properly drained; sewage disposal system in disrepair or not functioning properly.\n",
      "On 2018-10-01, we were cited for the following violation(s):\n",
      "\tFilth flies or food/refuse/sewage-associated (FRSA) flies present in facility’s food and/or non-food areas.\n",
      "On 2018-09-17, we were cited for the following violation(s):\n",
      "\tFacility not vermin proof.\n",
      "On 2018-09-17, we were cited for the following violation(s):\n",
      "\tLive roaches present in facility's food and/or non-food areas.\n",
      "On 2018-09-17, we were cited for the following violation(s):\n",
      "\tPlumbing not properly installed or maintained; anti-siphonage or backflow prevention device not provided where required; equipment or floor not properly drained; sewage disposal system in disrepair or not functioning properly.\n",
      "On 2018-09-17, we were cited for the following violation(s):\n",
      "\tNon-food contact surface improperly constructed.\n",
      "On 2018-02-13, we were cited for the following violation(s):\n",
      "\tFacility not vermin proof.\n",
      "On 2018-02-13, we were cited for the following violation(s):\n",
      "\tFilth flies or food/refuse/sewage-associated (FRSA) flies present in facility’s food and/or non-food areas.\n",
      "On 2018-01-10, we were cited for the following violation(s):\n",
      "\tNon-food contact surface improperly constructed.\n",
      "On 2018-01-10, we were cited for the following violation(s):\n",
      "\tFood not protected from potential source of contamination during storage, preparation, transportation, display or service.\n",
      "On 2016-10-06, we were cited for the following violation(s):\n",
      "\tFilth flies or food/refuse/sewage-associated (FRSA) flies present in facility’s food and/or non-food areas.\n",
      "On 2016-10-06, we were cited for the following violation(s):\n",
      "\tFacility not vermin proof.\n"
     ]
    }
   ],
   "source": [
    "for _, row in violations.iterrows():\n",
    "    print(\n",
    "        f\"On {row['INSPECTION DATE'].strftime('%Y-%m-%d')}, \"\n",
    "        f\"{interpret_action(row['ACTION'])}\\n\\t\"\n",
    "        f\"{truncate_violation_description(row['VIOLATION DESCRIPTION'])}\"\n",
    "    )"
   ]
  },
  {
   "cell_type": "code",
   "execution_count": null,
   "metadata": {},
   "outputs": [],
   "source": []
  }
 ],
 "metadata": {
  "kernelspec": {
   "display_name": "Python 3",
   "language": "python",
   "name": "python3"
  },
  "language_info": {
   "codemirror_mode": {
    "name": "ipython",
    "version": 3
   },
   "file_extension": ".py",
   "mimetype": "text/x-python",
   "name": "python",
   "nbconvert_exporter": "python",
   "pygments_lexer": "ipython3",
   "version": "3.7.6"
  }
 },
 "nbformat": 4,
 "nbformat_minor": 4
}
